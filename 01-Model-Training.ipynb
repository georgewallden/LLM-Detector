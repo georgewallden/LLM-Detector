{
 "cells": [
  {
   "cell_type": "code",
   "execution_count": 1,
   "id": "1cddc15d-fbc5-491b-9c8b-28eb829c5791",
   "metadata": {},
   "outputs": [
    {
     "name": "stdout",
     "output_type": "stream",
     "text": [
      "Old data cleared. Downloading new dataset 'olegshpagin/llm-detect-ai-train-dataset' to 'data'...\n",
      "Dataset URL: https://www.kaggle.com/datasets/olegshpagin/llm-detect-ai-train-dataset\n",
      "✅ New dataset downloaded and unzipped successfully!\n",
      " Volume in drive C is Boot\n",
      " Volume Serial Number is A854-378B\n",
      "\n",
      " Directory of C:\\Users\\gwall\\OneDrive\\Desktop\\Job Search\\ML Stuff\\LLM Detector\\data\n",
      "\n",
      "07/09/2025  02:31 PM    <DIR>          .\n",
      "07/09/2025  02:31 PM    <DIR>          ..\n",
      "07/09/2025  02:31 PM       100,960,902 train_final_41140_rows.csv\n",
      "               1 File(s)    100,960,902 bytes\n",
      "               2 Dir(s)  866,438,266,880 bytes free\n"
     ]
    }
   ],
   "source": [
    "# Cell 1 (v2): Download the LARGER Dataset\n",
    "import os\n",
    "import kaggle\n",
    "\n",
    "# The unique ID for the Kaggle dataset WE CHOSE TO USE\n",
    "dataset_id = \"olegshpagin/llm-detect-ai-train-dataset\"\n",
    "\n",
    "# The local folder where we'll store it\n",
    "data_path = \"data\"\n",
    "\n",
    "# Check if we already have it, if not, download it\n",
    "if not os.path.exists(data_path):\n",
    "    print(f\"Downloading dataset '{dataset_id}' to '{data_path}'...\")\n",
    "    kaggle.api.dataset_download_files(dataset_id, path=data_path, unzip=True)\n",
    "    print(\"✅ Dataset downloaded and unzipped successfully!\")\n",
    "else:\n",
    "    # If the old data is there, we should clear it out\n",
    "    import shutil\n",
    "    shutil.rmtree(data_path)\n",
    "    os.makedirs(data_path)\n",
    "    print(f\"Old data cleared. Downloading new dataset '{dataset_id}' to '{data_path}'...\")\n",
    "    kaggle.api.dataset_download_files(dataset_id, path=data_path, unzip=True)\n",
    "    print(\"✅ New dataset downloaded and unzipped successfully!\")\n",
    "\n",
    "\n",
    "# List the files in the 'data' directory to confirm success\n",
    "# Use '!dir data' on Windows\n",
    "!dir data"
   ]
  },
  {
   "cell_type": "code",
   "execution_count": 2,
   "id": "5dd27325-ba7f-468b-8707-4867f4a28491",
   "metadata": {},
   "outputs": [
    {
     "name": "stdout",
     "output_type": "stream",
     "text": [
      "First 5 rows of the dataset:\n"
     ]
    },
    {
     "data": {
      "text/html": [
       "<div>\n",
       "<style scoped>\n",
       "    .dataframe tbody tr th:only-of-type {\n",
       "        vertical-align: middle;\n",
       "    }\n",
       "\n",
       "    .dataframe tbody tr th {\n",
       "        vertical-align: top;\n",
       "    }\n",
       "\n",
       "    .dataframe thead th {\n",
       "        text-align: right;\n",
       "    }\n",
       "</style>\n",
       "<table border=\"1\" class=\"dataframe\">\n",
       "  <thead>\n",
       "    <tr style=\"text-align: right;\">\n",
       "      <th></th>\n",
       "      <th>Unnamed: 0</th>\n",
       "      <th>text</th>\n",
       "      <th>label</th>\n",
       "    </tr>\n",
       "  </thead>\n",
       "  <tbody>\n",
       "    <tr>\n",
       "      <th>0</th>\n",
       "      <td>0</td>\n",
       "      <td>Some schools in United States ofter classes fr...</td>\n",
       "      <td>0.0</td>\n",
       "    </tr>\n",
       "    <tr>\n",
       "      <th>1</th>\n",
       "      <td>1</td>\n",
       "      <td>Four-day work week, a remarkable idea to conse...</td>\n",
       "      <td>0.0</td>\n",
       "    </tr>\n",
       "    <tr>\n",
       "      <th>2</th>\n",
       "      <td>2</td>\n",
       "      <td>Students and their families should consider an...</td>\n",
       "      <td>0.0</td>\n",
       "    </tr>\n",
       "    <tr>\n",
       "      <th>3</th>\n",
       "      <td>3</td>\n",
       "      <td>Agree you will never grow if something beyond ...</td>\n",
       "      <td>0.0</td>\n",
       "    </tr>\n",
       "    <tr>\n",
       "      <th>4</th>\n",
       "      <td>4</td>\n",
       "      <td>I think our character traits are formed by inf...</td>\n",
       "      <td>0.0</td>\n",
       "    </tr>\n",
       "  </tbody>\n",
       "</table>\n",
       "</div>"
      ],
      "text/plain": [
       "   Unnamed: 0                                               text  label\n",
       "0           0  Some schools in United States ofter classes fr...    0.0\n",
       "1           1  Four-day work week, a remarkable idea to conse...    0.0\n",
       "2           2  Students and their families should consider an...    0.0\n",
       "3           3  Agree you will never grow if something beyond ...    0.0\n",
       "4           4  I think our character traits are formed by inf...    0.0"
      ]
     },
     "metadata": {},
     "output_type": "display_data"
    },
    {
     "name": "stdout",
     "output_type": "stream",
     "text": [
      "\n",
      "Dataset Information:\n",
      "<class 'pandas.core.frame.DataFrame'>\n",
      "RangeIndex: 41140 entries, 0 to 41139\n",
      "Data columns (total 3 columns):\n",
      " #   Column      Non-Null Count  Dtype  \n",
      "---  ------      --------------  -----  \n",
      " 0   Unnamed: 0  41140 non-null  int64  \n",
      " 1   text        41140 non-null  object \n",
      " 2   label       41140 non-null  float64\n",
      "dtypes: float64(1), int64(1), object(1)\n",
      "memory usage: 964.3+ KB\n",
      "\n",
      "Distribution of labels (0=Human, 1=LLM):\n",
      "label\n",
      "0.0    20570\n",
      "1.0    20570\n",
      "Name: count, dtype: int64\n"
     ]
    }
   ],
   "source": [
    "# Cell 2: Load Data with Pandas and Inspect\n",
    "import pandas as pd\n",
    "import os\n",
    "\n",
    "# Construct the full path to our data file\n",
    "file_path = os.path.join(\"data\", \"train_final_41140_rows.csv\")\n",
    "\n",
    "# Read the CSV file into a pandas DataFrame\n",
    "# A DataFrame is essentially a powerful, programmable spreadsheet\n",
    "df = pd.read_csv(file_path)\n",
    "\n",
    "# --- Initial Inspection ---\n",
    "\n",
    "# 1. Look at the first 5 rows to understand the columns\n",
    "print(\"First 5 rows of the dataset:\")\n",
    "display(df.head())\n",
    "\n",
    "# 2. Get a summary of the DataFrame (column names, data types, non-null counts)\n",
    "print(\"\\nDataset Information:\")\n",
    "df.info()\n",
    "\n",
    "# 3. Check the distribution of our target variable 'label'\n",
    "# This is CRITICAL for a classification task. 0 = Human, 1 = LLM\n",
    "print(\"\\nDistribution of labels (0=Human, 1=LLM):\")\n",
    "print(df['label'].value_counts())"
   ]
  },
  {
   "cell_type": "code",
   "execution_count": 3,
   "id": "f7c084af-4ab7-492c-857a-b8146cb85430",
   "metadata": {},
   "outputs": [
    {
     "name": "stderr",
     "output_type": "stream",
     "text": [
      "C:\\Users\\gwall\\OneDrive\\Desktop\\Job Search\\ML Stuff\\LLM Detector\\venv\\Lib\\site-packages\\tqdm\\auto.py:21: TqdmWarning: IProgress not found. Please update jupyter and ipywidgets. See https://ipywidgets.readthedocs.io/en/stable/user_install.html\n",
      "  from .autonotebook import tqdm as notebook_tqdm\n"
     ]
    },
    {
     "name": "stdout",
     "output_type": "stream",
     "text": [
      "Final Hugging Face Dataset structure:\n",
      "DatasetDict({\n",
      "    train: Dataset({\n",
      "        features: ['text', 'label'],\n",
      "        num_rows: 32912\n",
      "    })\n",
      "    validation: Dataset({\n",
      "        features: ['text', 'label'],\n",
      "        num_rows: 8228\n",
      "    })\n",
      "})\n"
     ]
    }
   ],
   "source": [
    "# Cell 3 (v3 - Final Version): Preprocess, Split, and Clean Data\n",
    "from sklearn.model_selection import train_test_split\n",
    "from datasets import Dataset, DatasetDict\n",
    "import pandas as pd # Make sure pandas is imported in this cell if running standalone\n",
    "\n",
    "# --- 1. Clean the DataFrame ---\n",
    "# Re-running this part is fine, it just re-does the cleaning.\n",
    "df.drop(columns=['Unnamed: 0'], inplace=True, errors='ignore') # 'errors=ignore' prevents error if run twice\n",
    "df['label'] = df['label'].astype(int)\n",
    "\n",
    "# --- 2. Split the DataFrame ---\n",
    "train_df, val_df = train_test_split(\n",
    "    df,\n",
    "    test_size=0.2,\n",
    "    random_state=42,\n",
    "    stratify=df['label']\n",
    ")\n",
    "\n",
    "# --- 3. Convert to Hugging Face Dataset objects ---\n",
    "train_dataset = Dataset.from_pandas(train_df)\n",
    "val_dataset = Dataset.from_pandas(val_df)\n",
    "\n",
    "raw_datasets = DatasetDict({\n",
    "    'train': train_dataset,\n",
    "    'validation': val_dataset\n",
    "})\n",
    "\n",
    "# --- 4. Remove the leftover index column ---\n",
    "# THIS IS THE CRITICAL LINE THAT FIXES THE OUTPUT\n",
    "raw_datasets = raw_datasets.remove_columns(['__index_level_0__'])\n",
    "\n",
    "# --- 5. Inspect the final, clean dataset ---\n",
    "print(\"Final Hugging Face Dataset structure:\")\n",
    "print(raw_datasets)"
   ]
  },
  {
   "cell_type": "code",
   "execution_count": 4,
   "id": "545cac81-6019-4fa3-a3a2-e10b3d17502f",
   "metadata": {},
   "outputs": [
    {
     "name": "stderr",
     "output_type": "stream",
     "text": [
      "Map: 100%|███████████████████████████████████████████████████████████████████████████████████████████████████████████████████████████████████████████████████████████████████████████████████████████████████████████████████████████████████████████████████████████████████████████████████████████████████████████████████| 32912/32912 [00:07<00:00, 4621.57 examples/s]\n",
      "Map: 100%|█████████████████████████████████████████████████████████████████████████████████████████████████████████████████████████████████████████████████████████████████████████████████████████████████████████████████████████████████████████████████████████████████████████████████████████████████████████████████████| 8228/8228 [00:02<00:00, 3767.75 examples/s]"
     ]
    },
    {
     "name": "stdout",
     "output_type": "stream",
     "text": [
      "\n",
      "Structure of the tokenized dataset:\n",
      "DatasetDict({\n",
      "    train: Dataset({\n",
      "        features: ['text', 'label', 'input_ids', 'attention_mask'],\n",
      "        num_rows: 32912\n",
      "    })\n",
      "    validation: Dataset({\n",
      "        features: ['text', 'label', 'input_ids', 'attention_mask'],\n",
      "        num_rows: 8228\n",
      "    })\n",
      "})\n",
      "\n",
      "Final, model-ready dataset structure:\n",
      "DatasetDict({\n",
      "    train: Dataset({\n",
      "        features: ['labels', 'input_ids', 'attention_mask'],\n",
      "        num_rows: 32912\n",
      "    })\n",
      "    validation: Dataset({\n",
      "        features: ['labels', 'input_ids', 'attention_mask'],\n",
      "        num_rows: 8228\n",
      "    })\n",
      "})\n"
     ]
    },
    {
     "name": "stderr",
     "output_type": "stream",
     "text": [
      "\n"
     ]
    }
   ],
   "source": [
    "# Cell 4: Create and Apply Tokenizer\n",
    "from transformers import AutoTokenizer\n",
    "\n",
    "# The name of the pre-trained model we are fine-tuning.\n",
    "# This ensures we use the EXACT same vocabulary and rules as the original model.\n",
    "model_checkpoint = \"distilbert-base-uncased\"\n",
    "\n",
    "# Load the tokenizer.\n",
    "tokenizer = AutoTokenizer.from_pretrained(model_checkpoint)\n",
    "\n",
    "# Now, create a function that will apply the tokenizer to a batch of our data.\n",
    "def tokenize_function(examples):\n",
    "    # 'truncation=True' will cut off texts that are longer than the model can handle.\n",
    "    # 'padding=\"max_length\"' will add empty tokens to shorter texts so all are the same size.\n",
    "    return tokenizer(examples[\"text\"], truncation=True, padding=\"max_length\", max_length=512)\n",
    "\n",
    "# The magic line: .map() applies our function to the entire dataset.\n",
    "# 'batched=True' processes multiple rows at once for speed.\n",
    "tokenized_datasets = raw_datasets.map(tokenize_function, batched=True)\n",
    "\n",
    "# Let's see what it did. Notice the new columns!\n",
    "print(\"\\nStructure of the tokenized dataset:\")\n",
    "print(tokenized_datasets)\n",
    "\n",
    "# We no longer need the original 'text' column, as it's been replaced\n",
    "# by 'input_ids', 'attention_mask', etc. Let's remove it for cleanliness.\n",
    "tokenized_datasets = tokenized_datasets.remove_columns([\"text\"])\n",
    "\n",
    "# The Trainer expects the label column to be named 'labels'. Let's rename it.\n",
    "tokenized_datasets = tokenized_datasets.rename_column(\"label\", \"labels\")\n",
    "\n",
    "# Finally, let's set the format to 'torch' because we're using PyTorch.\n",
    "# This makes the dataset directly usable by our model.\n",
    "tokenized_datasets.set_format(\"torch\")\n",
    "\n",
    "print(\"\\nFinal, model-ready dataset structure:\")\n",
    "print(tokenized_datasets)"
   ]
  },
  {
   "cell_type": "code",
   "execution_count": 5,
   "id": "9b75097b-1d0a-463d-be70-777d257c2a8c",
   "metadata": {},
   "outputs": [
    {
     "name": "stderr",
     "output_type": "stream",
     "text": [
      "Some weights of DistilBertForSequenceClassification were not initialized from the model checkpoint at distilbert-base-uncased and are newly initialized: ['classifier.bias', 'classifier.weight', 'pre_classifier.bias', 'pre_classifier.weight']\n",
      "You should probably TRAIN this model on a down-stream task to be able to use it for predictions and inference.\n",
      "C:\\Users\\gwall\\AppData\\Local\\Temp\\ipykernel_23812\\321754937.py:32: FutureWarning: `tokenizer` is deprecated and will be removed in version 5.0.0 for `Trainer.__init__`. Use `processing_class` instead.\n",
      "  trainer = Trainer(\n"
     ]
    },
    {
     "name": "stdout",
     "output_type": "stream",
     "text": [
      "Training begins now...\n"
     ]
    },
    {
     "data": {
      "text/html": [
       "\n",
       "    <div>\n",
       "      \n",
       "      <progress value='2057' max='2057' style='width:300px; height:20px; vertical-align: middle;'></progress>\n",
       "      [2057/2057 03:05, Epoch 1/1]\n",
       "    </div>\n",
       "    <table border=\"1\" class=\"dataframe\">\n",
       "  <thead>\n",
       " <tr style=\"text-align: left;\">\n",
       "      <th>Epoch</th>\n",
       "      <th>Training Loss</th>\n",
       "      <th>Validation Loss</th>\n",
       "    </tr>\n",
       "  </thead>\n",
       "  <tbody>\n",
       "    <tr>\n",
       "      <td>1</td>\n",
       "      <td>0.000100</td>\n",
       "      <td>0.008804</td>\n",
       "    </tr>\n",
       "  </tbody>\n",
       "</table><p>"
      ],
      "text/plain": [
       "<IPython.core.display.HTML object>"
      ]
     },
     "metadata": {},
     "output_type": "display_data"
    },
    {
     "data": {
      "text/plain": [
       "TrainOutput(global_step=2057, training_loss=0.05060651961447581, metrics={'train_runtime': 185.4588, 'train_samples_per_second': 177.463, 'train_steps_per_second': 11.091, 'total_flos': 4359767024566272.0, 'train_loss': 0.05060651961447581, 'epoch': 1.0})"
      ]
     },
     "execution_count": 5,
     "metadata": {},
     "output_type": "execute_result"
    }
   ],
   "source": [
    "# Cell 5 (v2 - Corrected for modern Transformers library): Configure and Run the Training\n",
    "from transformers import AutoModelForSequenceClassification, TrainingArguments, Trainer\n",
    "import os\n",
    "\n",
    "# --- 1. Load the Model ---\n",
    "model = AutoModelForSequenceClassification.from_pretrained(model_checkpoint, num_labels=2)\n",
    "\n",
    "# --- 2. Define Training Arguments ---\n",
    "model_name = \"llm-detector\"\n",
    "hub_model_id = f\"George-Wallden/{model_name}\" \n",
    "\n",
    "training_args = TrainingArguments(\n",
    "    output_dir=model_name,\n",
    "    # --- THIS IS THE FIX ---\n",
    "    # Renamed 'evaluation_strategy' to 'eval_strategy'\n",
    "    eval_strategy=\"epoch\",          \n",
    "    # ----------------------\n",
    "    save_strategy=\"epoch\",                   # This argument name is still correct\n",
    "    num_train_epochs=1,                      \n",
    "    per_device_train_batch_size=16,          \n",
    "    per_device_eval_batch_size=64,           \n",
    "    warmup_steps=500,                        \n",
    "    weight_decay=0.01,                       \n",
    "    logging_dir='./logs',                    \n",
    "    logging_steps=10,\n",
    "    push_to_hub=True,                        \n",
    "    hub_model_id=hub_model_id,               \n",
    "    load_best_model_at_end=True,             \n",
    ")\n",
    "\n",
    "# --- 3. Initialize the Trainer ---\n",
    "trainer = Trainer(\n",
    "    model=model,\n",
    "    args=training_args,\n",
    "    train_dataset=tokenized_datasets[\"train\"],\n",
    "    eval_dataset=tokenized_datasets[\"validation\"],\n",
    "    tokenizer=tokenizer,\n",
    ")\n",
    "\n",
    "# --- 4. Train! ---\n",
    "print(\"Training begins now...\")\n",
    "trainer.train()"
   ]
  },
  {
   "cell_type": "code",
   "execution_count": 8,
   "id": "5afafb1a-5efe-4e26-8a6d-05f8d42aeb69",
   "metadata": {},
   "outputs": [
    {
     "name": "stdout",
     "output_type": "stream",
     "text": [
      "Requirement already satisfied: matplotlib in c:\\users\\gwall\\onedrive\\desktop\\job search\\ml stuff\\llm detector\\venv\\lib\\site-packages (3.10.3)\n",
      "Requirement already satisfied: contourpy>=1.0.1 in c:\\users\\gwall\\onedrive\\desktop\\job search\\ml stuff\\llm detector\\venv\\lib\\site-packages (from matplotlib) (1.3.2)\n",
      "Requirement already satisfied: cycler>=0.10 in c:\\users\\gwall\\onedrive\\desktop\\job search\\ml stuff\\llm detector\\venv\\lib\\site-packages (from matplotlib) (0.12.1)\n",
      "Requirement already satisfied: fonttools>=4.22.0 in c:\\users\\gwall\\onedrive\\desktop\\job search\\ml stuff\\llm detector\\venv\\lib\\site-packages (from matplotlib) (4.58.5)\n",
      "Requirement already satisfied: kiwisolver>=1.3.1 in c:\\users\\gwall\\onedrive\\desktop\\job search\\ml stuff\\llm detector\\venv\\lib\\site-packages (from matplotlib) (1.4.8)\n",
      "Requirement already satisfied: numpy>=1.23 in c:\\users\\gwall\\onedrive\\desktop\\job search\\ml stuff\\llm detector\\venv\\lib\\site-packages (from matplotlib) (2.3.1)\n",
      "Requirement already satisfied: packaging>=20.0 in c:\\users\\gwall\\onedrive\\desktop\\job search\\ml stuff\\llm detector\\venv\\lib\\site-packages (from matplotlib) (25.0)\n",
      "Requirement already satisfied: pillow>=8 in c:\\users\\gwall\\onedrive\\desktop\\job search\\ml stuff\\llm detector\\venv\\lib\\site-packages (from matplotlib) (11.0.0)\n",
      "Requirement already satisfied: pyparsing>=2.3.1 in c:\\users\\gwall\\onedrive\\desktop\\job search\\ml stuff\\llm detector\\venv\\lib\\site-packages (from matplotlib) (3.2.3)\n",
      "Requirement already satisfied: python-dateutil>=2.7 in c:\\users\\gwall\\onedrive\\desktop\\job search\\ml stuff\\llm detector\\venv\\lib\\site-packages (from matplotlib) (2.9.0.post0)\n",
      "Requirement already satisfied: six>=1.5 in c:\\users\\gwall\\onedrive\\desktop\\job search\\ml stuff\\llm detector\\venv\\lib\\site-packages (from python-dateutil>=2.7->matplotlib) (1.17.0)\n"
     ]
    },
    {
     "name": "stderr",
     "output_type": "stream",
     "text": [
      "\n",
      "[notice] A new release of pip is available: 23.2.1 -> 25.1.1\n",
      "[notice] To update, run: python.exe -m pip install --upgrade pip\n"
     ]
    }
   ],
   "source": [
    "!pip install matplotlib"
   ]
  },
  {
   "cell_type": "code",
   "execution_count": 9,
   "id": "cb106aa0-5329-4c80-963e-09e3d4b23c38",
   "metadata": {},
   "outputs": [
    {
     "name": "stdout",
     "output_type": "stream",
     "text": [
      "Making predictions on the validation set...\n"
     ]
    },
    {
     "data": {
      "text/html": [],
      "text/plain": [
       "<IPython.core.display.HTML object>"
      ]
     },
     "metadata": {},
     "output_type": "display_data"
    },
    {
     "name": "stdout",
     "output_type": "stream",
     "text": [
      "\n",
      "--- Model Performance ---\n",
      "Accuracy: 0.9983\n",
      "F1 Score: 0.9983\n",
      "-----------------------\n",
      "\n"
     ]
    },
    {
     "data": {
      "image/png": "[encoded data removed]",
      "text/plain": [
       "<Figure size 600x600 with 2 Axes>"
      ]
     },
     "metadata": {},
     "output_type": "display_data"
    }
   ],
   "source": [
    "# Cell 6: Evaluate the Model\n",
    "import numpy as np\n",
    "from sklearn.metrics import accuracy_score, f1_score, confusion_matrix, ConfusionMatrixDisplay\n",
    "import matplotlib.pyplot as plt\n",
    "\n",
    "# --- 1. Get Predictions ---\n",
    "# The trainer.predict() function runs our model on the validation dataset.\n",
    "print(\"Making predictions on the validation set...\")\n",
    "predictions_output = trainer.predict(tokenized_datasets[\"validation\"])\n",
    "\n",
    "# The output contains the model's raw predictions (logits)\n",
    "# We need to find the class with the highest probability (0 or 1) using argmax\n",
    "y_preds = np.argmax(predictions_output.predictions, axis=1)\n",
    "\n",
    "# The output also contains the true labels\n",
    "y_true = predictions_output.label_ids\n",
    "\n",
    "\n",
    "# --- 2. Calculate Metrics ---\n",
    "# Compare the true labels with our model's predictions\n",
    "accuracy = accuracy_score(y_true, y_preds)\n",
    "f1 = f1_score(y_true, y_preds)\n",
    "\n",
    "print(f\"\\n--- Model Performance ---\")\n",
    "print(f\"Accuracy: {accuracy:.4f}\")\n",
    "print(f\"F1 Score: {f1:.4f}\")\n",
    "print(f\"-----------------------\\n\")\n",
    "\n",
    "\n",
    "# --- 3. Display Confusion Matrix ---\n",
    "# This matrix shows us what the model got right and what it got wrong.\n",
    "cm = confusion_matrix(y_true, y_preds)\n",
    "\n",
    "# Create a beautiful plot for the matrix\n",
    "disp = ConfusionMatrixDisplay(confusion_matrix=cm, display_labels=[\"Human\", \"LLM\"])\n",
    "\n",
    "fig, ax = plt.subplots(figsize=(6, 6))\n",
    "disp.plot(ax=ax, cmap='Blues', values_format='d')\n",
    "ax.set_title('Confusion Matrix')\n",
    "plt.show()"
   ]
  },
  {
   "cell_type": "code",
   "execution_count": 10,
   "id": "7db31acf-4d5b-4fe7-8f56-bd7b2f837482",
   "metadata": {},
   "outputs": [
    {
     "name": "stdout",
     "output_type": "stream",
     "text": [
      "Pushing final model and trainer state to the Hub...\n",
      "✅ All files pushed successfully!\n"
     ]
    }
   ],
   "source": [
    "# Cell 7: Final Push to Hub\n",
    "print(\"Pushing final model and trainer state to the Hub...\")\n",
    "trainer.push_to_hub(\"End of training\")\n",
    "print(\"✅ All files pushed successfully!\")"
   ]
  },
  {
   "cell_type": "code",
   "execution_count": null,
   "id": "a1a3501f-5367-4ada-91bd-bfe8d5b6a8c9",
   "metadata": {},
   "outputs": [],
   "source": []
  }
 ],
 "metadata": {
  "kernelspec": {
   "display_name": "Python 3 (ipykernel)",
   "language": "python",
   "name": "python3"
  },
  "language_info": {
   "codemirror_mode": {
    "name": "ipython",
    "version": 3
   },
   "file_extension": ".py",
   "mimetype": "text/x-python",
   "name": "python",
   "nbconvert_exporter": "python",
   "pygments_lexer": "ipython3",
   "version": "3.12.1"
  }
 },
 "nbformat": 4,
 "nbformat_minor": 5
}
